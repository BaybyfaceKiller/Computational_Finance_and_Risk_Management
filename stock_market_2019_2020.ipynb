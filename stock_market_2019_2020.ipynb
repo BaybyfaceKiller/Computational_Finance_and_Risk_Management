{
  "nbformat": 4,
  "nbformat_minor": 0,
  "metadata": {
    "colab": {
      "name": "stock_market_2019_2020.ipynb",
      "provenance": [],
      "collapsed_sections": []
    },
    "kernelspec": {
      "name": "python3",
      "display_name": "Python 3"
    },
    "language_info": {
      "name": "python"
    }
  },
  "cells": [
    {
      "cell_type": "markdown",
      "metadata": {
        "id": "AorLOA1EKUAq"
      },
      "source": [
        "# Part 1"
      ]
    },
    {
      "cell_type": "code",
      "metadata": {
        "colab": {
          "base_uri": "https://localhost:8080/"
        },
        "id": "cCDkV1CqnKfU",
        "outputId": "4a9ce357-26db-4b92-daf9-ad2c343f9083"
      },
      "source": [
        "# Optional Starter Code for Final Exam Project\n",
        "\n",
        "# not mandatory to be used, you can start with your own codes\n",
        "\n",
        "# Import libraries\n",
        "import pandas as pd\n",
        "import numpy as np\n",
        "from os import path\n",
        "import matplotlib.pyplot as plt\n",
        "import math\n",
        "import scipy.stats as scs\n",
        "! pip install cplex\n",
        "import cplex\n",
        "import cvxpy as cp\n",
        "import statsmodels.api as smf\n",
        "\n",
        "# Import other libraries\n",
        "# Insert your code here #\n",
        "\n",
        "# Read Daily Prices\n",
        "\n",
        "# CSV file with price data\n",
        "input_file_prices  = 'Daily_closing_prices.csv'\n",
        "if path.exists(input_file_prices):\n",
        "    print('\\nReading daily prices datafile - {}\\n'.format(input_file_prices))\n",
        "    fid = pd.read_csv(input_file_prices)\n",
        "    # instrument tickers\n",
        "    tickers = list(fid.columns)[1:]\n",
        "    # time periods\n",
        "    dates = fid['Date']\n",
        "    data_prices = fid.values[:,1:]\n",
        "    data_prices=data_prices.astype('float')\n",
        "else:\n",
        "    print(\"No such file '{}'\".format(input_file_prices), file=sys.stderr)\n",
        "    \n",
        "# Convert dates into array [year month day]\n",
        "def convert_date_to_array(datestr):\n",
        "    temp = [int(x) for x in datestr.split('/')]\n",
        "    return [temp[-1], temp[0], temp[1]]\n",
        "\n",
        "dates_array = np.array(list(fid['Date'].apply(convert_date_to_array)))\n",
        "\n",
        "# Question 1\n",
        "\n",
        "# Specify quantile level for VaR/CVaR\n",
        "alf = 0.95\n",
        "\n",
        "# Number of assets in universe\n",
        "Na = data_prices.shape[1]\n",
        "\n",
        "# Number of historical scenarios\n",
        "Ns = data_prices.shape[0]\n",
        "\n",
        "# Positions in the portfolio\n",
        "positions = np.array([100, 0, 0, 0, 0, 0, 0, 0, 200, 500, 0, 0, 0, 0, 0, 0, 0, 0, 0, 0]).reshape(Na,1)\n",
        "\n",
        "################################ Insert your code here ################################\n",
        "# calculate initial portfolio value\n",
        "portf_value_init=(np.dot(data_prices[0,:],positions)).astype('float')\n",
        "# calculate portfolio value for each trading day\n",
        "portf_value=np.dot(data_prices,positions)\n",
        "# calcualte 1-day loss \n",
        "diff_1d=portf_value[:-1]-portf_value[1:]\n",
        "loss_1d=np.sort(diff_1d.reshape(-1)).astype('float')\n",
        "# calcualte 10-day loss\n",
        "# calculate number of windows \n",
        "num_wind=data_prices.shape[0]-10\n",
        "# initialize the 10-day loss array\n",
        "diff_10d=np.zeros((num_wind))\n",
        "# iterate through each window and calcualte loss\n",
        "for i in range(1,num_wind+1):\n",
        "    diff_10d[i-1]=portf_value[i-1]-portf_value[i+9]\n",
        "loss_10d=np.sort(diff_10d)\n",
        "# numebr of scenarios for each case\n",
        "Ns_1=Ns-1\n",
        "Ns_10=Ns-10\n",
        "# compute 1-day VaR using historical data\n",
        "VaR1 = loss_1d[int(math.ceil(Ns_1 * alf)) - 1]\n",
        "# compute 1-day CVaR using historical data\n",
        "CVaR1 = (1 / (Ns_1 * (1 - alf))) * ((math.ceil(Ns_1 * alf) - Ns_1 * alf) * VaR1 + sum(loss_1d[int(math.ceil(Ns_1 * alf)):]))\n",
        "# compute 10-day VaR using historical data\n",
        "VaR10 = loss_10d[int(math.ceil(Ns_10 * alf)) - 1]\n",
        "# compute 10-day CVaR using historical data\n",
        "CVaR10 = (1 / (Ns_10 * (1 - alf))) * ((math.ceil(Ns_10 * alf) - Ns_10 * alf) * VaR10 + sum(loss_10d[int(math.ceil(Ns_10 * alf)):]))\n",
        "# calculate portfolio weight\n",
        "w=(data_prices[0,:]*positions.reshape(-1))/np.dot(data_prices[0,:],positions)\n",
        "# calcualte mean and covariance for each stock from historical data for 1-day\n",
        "return_1d=((data_prices[1:,:] / data_prices[:-1,:])- 1).astype('float')\n",
        "mu_1d = -np.mean(return_1d, axis = 0)\n",
        "Q_1d = np.cov(return_1d.T)\n",
        "# calculate portfolio mean and variance for 1-day\n",
        "portf_mean_1d=np.dot(mu_1d.T,w)*portf_value_init\n",
        "portf_var_1d=np.dot(w.T,Q_1d).dot(w)*portf_value_init**2\n",
        "# calculate VaR and CVaR using normal distribution of loss\n",
        "VaR1n=portf_mean_1d+scs.norm.ppf(alf)*np.sqrt(portf_var_1d)\n",
        "CVaR1n=portf_mean_1d + (scs.norm.pdf(scs.norm.ppf(alf)) / (1 -alf)) * np.sqrt(portf_var_1d)\n",
        "# calcualte mean and covariance for each stock from historical data for 10-day\n",
        "return_10d=np.zeros((num_wind,Na))\n",
        "# iterate throug each window and calculate return \n",
        "for i in range(1,1+num_wind):\n",
        "    return_10d[i-1]=(data_prices[i+9,:] / data_prices[i-1,:])- 1\n",
        "# calcualte mean and covariance for each stock from historical data for 10-day\n",
        "mu_10d = -np.mean(return_10d, axis = 0)\n",
        "Q_10d = np.cov(return_10d.T)\n",
        "# calculate portfolio mean and variance for 10-day\n",
        "portf_mean_10d=np.dot(mu_10d.T,w)*portf_value_init\n",
        "portf_var_10d=np.dot(w.T,Q_10d).dot(w)*portf_value_init**2\n",
        "# calculate VaR and CVaR using normal distribution of loss\n",
        "VaR10n=portf_mean_10d+scs.norm.ppf(alf)*np.sqrt(portf_var_10d)\n",
        "CVaR10n=portf_mean_10d + (scs.norm.pdf(scs.norm.ppf(alf)) / (1 -alf)) * np.sqrt(portf_var_10d)\n",
        "# print results\n",
        "print('Historical 1-day VaR %4.1f%% = $%6.2f,   Historical 1-day CVaR %4.1f%% = $%6.2f\\n'% (100*alf, VaR1, 100*alf, CVaR1))\n",
        "print('    Normal 1-day VaR %4.1f%% = $%6.2f,       Normal 1-day CVaR %4.1f%% = $%6.2f\\n'% (100*alf, VaR1n, 100*alf, CVaR1n))\n",
        "print('Historical 10-day VaR %4.1f%% = $%6.2f,   Historical 10-day CVaR %4.1f%% = $%6.2f\\n'% (100*alf, VaR10, 100*alf, CVaR10))\n",
        "print('    Normal 10-day VaR %4.1f%% = $%6.2f,       Normal 10-day CVaR %4.1f%% = $%6.2f\\n'% (100*alf, VaR10n, 100*alf, CVaR10n))\n"
      ],
      "execution_count": null,
      "outputs": [
        {
          "output_type": "stream",
          "text": [
            "Requirement already satisfied: cplex in /usr/local/lib/python3.7/dist-packages (20.1.0.1)\n",
            "\n",
            "Reading daily prices datafile - Daily_closing_prices.csv\n",
            "\n",
            "Historical 1-day VaR 95.0% = $2477.25,   Historical 1-day CVaR 95.0% = $4326.98\n",
            "\n",
            "    Normal 1-day VaR 95.0% = $2117.54,       Normal 1-day CVaR 95.0% = $2673.14\n",
            "\n",
            "Historical 10-day VaR 95.0% = $9023.03,   Historical 10-day CVaR 95.0% = $14099.34\n",
            "\n",
            "    Normal 10-day VaR 95.0% = $5585.88,       Normal 10-day CVaR 95.0% = $7168.01\n",
            "\n"
          ],
          "name": "stdout"
        }
      ]
    },
    {
      "cell_type": "code",
      "metadata": {
        "colab": {
          "base_uri": "https://localhost:8080/",
          "height": 368
        },
        "id": "Rap09OAOF3Kh",
        "outputId": "97ee08c9-2a18-4497-d429-abd0a199724c"
      },
      "source": [
        "# plot the result for 1-Day loss\n",
        "plt.figure(figsize=(12,5))\n",
        "frequencyCounts, binLocations, patches = plt.hist(loss_1d, 100)\n",
        "normf= (1 / (np.std(loss_1d) * math.sqrt(2 * math.pi))) * np.exp(-0.5 * ((binLocations-np.mean(loss_1d)) / np.std(loss_1d)) ** 2)\n",
        "normf= normf* sum(frequencyCounts) / sum(normf)\n",
        "plt.plot(binLocations, normf, color='r', linewidth=3.0)\n",
        "plt.plot([VaR1, VaR1], [0, 0.5*max(frequencyCounts)], color='k', linewidth=1, linestyle='-.')\n",
        "plt.text(0.9 * VaR1, 0.5*max(frequencyCounts), 'VaR1 95%',color='k')\n",
        "plt.plot([VaR1n, VaR1n], [0, 0.7*max(frequencyCounts)], color='g', linewidth=1, linestyle='-.')\n",
        "plt.text(0.9 * VaR1n, 0.7*max(frequencyCounts), 'VaR1n 95%',color='g')\n",
        "plt.plot([CVaR1, CVaR1], [0, 0.4*max(frequencyCounts)], color='b', linewidth=1, linestyle='-.')\n",
        "plt.text(0.9 * CVaR1, 0.4*max(frequencyCounts), 'CVaR1 95%',color='b')\n",
        "plt.plot([CVaR1n, CVaR1n], [0, 0.6*max(frequencyCounts)], color='m', linewidth=1, linestyle='-.')\n",
        "plt.text(0.9 * CVaR1n, 0.6*max(frequencyCounts), 'CVaR1n95%',color='m')\n",
        "plt.xlabel('Loss in portfolio value')\n",
        "plt.ylabel('Frequency')\n",
        "plt.title('Distribution of 1-Day Loss')"
      ],
      "execution_count": null,
      "outputs": [
        {
          "output_type": "execute_result",
          "data": {
            "text/plain": [
              "Text(0.5, 1.0, 'Distribution of 1-Day Loss')"
            ]
          },
          "metadata": {
            "tags": []
          },
          "execution_count": 6
        },
        {
          "output_type": "display_data",
          "data": {
            "image/png": "[encoded data removed]",
            "text/plain": [
              "<Figure size 864x360 with 1 Axes>"
            ]
          },
          "metadata": {
            "tags": [],
            "needs_background": "light"
          }
        }
      ]
    },
    {
      "cell_type": "code",
      "metadata": {
        "colab": {
          "base_uri": "https://localhost:8080/",
          "height": 368
        },
        "id": "BsILJkDrGDLZ",
        "outputId": "4c7ba737-f8c1-40df-ad83-7a762bea6b90"
      },
      "source": [
        "# plot the result for 10-Day loss\n",
        "plt.figure(figsize=(12,5))\n",
        "frequencyCounts, binLocations, patches = plt.hist(loss_10d, 100)\n",
        "normf= (1 / (np.std(loss_10d) * math.sqrt(2 * math.pi))) * np.exp(-0.5 * ((binLocations-np.mean(loss_10d)) / np.std(loss_10d)) ** 2)\n",
        "normf= normf* sum(frequencyCounts) / sum(normf)\n",
        "plt.plot(binLocations, normf, color='r', linewidth=3.0)\n",
        "plt.plot([VaR10, VaR10], [0, 0.5*max(frequencyCounts)], color='k', linewidth=1, linestyle='-.')\n",
        "plt.text(0.9 * VaR10, 0.5*max(frequencyCounts), 'VaR10 95%',color='k')\n",
        "plt.plot([VaR10n, VaR10n], [0, 0.7*max(frequencyCounts)], color='g', linewidth=1, linestyle='-.')\n",
        "plt.text(0.9 * VaR10n, 0.7*max(frequencyCounts), 'VaR10n 95%',color='g')\n",
        "plt.plot([CVaR10, CVaR10], [0, 0.4*max(frequencyCounts)], color='b', linewidth=1, linestyle='-.')\n",
        "plt.text(0.9 * CVaR10, 0.4*max(frequencyCounts), 'CVaR10 95%',color='b')\n",
        "plt.plot([CVaR10n, CVaR10n], [0, 0.6*max(frequencyCounts)], color='m', linewidth=1, linestyle='-.')\n",
        "plt.text(0.9 * CVaR10n, 0.6*max(frequencyCounts), 'CVaR10n95%',color='m')\n",
        "plt.xlabel('Loss in portfolio value')\n",
        "plt.ylabel('Frequency')\n",
        "plt.title('Distribution of 10-Day Loss')"
      ],
      "execution_count": null,
      "outputs": [
        {
          "output_type": "execute_result",
          "data": {
            "text/plain": [
              "Text(0.5, 1.0, 'Distribution of 10-Day Loss')"
            ]
          },
          "metadata": {
            "tags": []
          },
          "execution_count": 7
        },
        {
          "output_type": "display_data",
          "data": {
            "image/png": "[encoded data removed]",
            "text/plain": [
              "<Figure size 864x360 with 1 Axes>"
            ]
          },
          "metadata": {
            "tags": [],
            "needs_background": "light"
          }
        }
      ]
    },
    {
      "cell_type": "code",
      "metadata": {
        "colab": {
          "base_uri": "https://localhost:8080/"
        },
        "id": "no8on1IcG92N",
        "outputId": "7c08c66c-9211-41a9-a327-33f78e29443e"
      },
      "source": [
        "# define positions for 100 MSFT\n",
        "position_1 = np.array([100, 0, 0, 0, 0, 0, 0, 0, 0, 0, 0, 0, 0, 0, 0, 0, 0, 0, 0, 0]).reshape(Na,1)\n",
        "# define positions for 200 AAPL\n",
        "position_2 = np.array([0, 0, 0, 0, 0, 0, 0, 0, 200, 0, 0, 0, 0, 0, 0, 0, 0, 0, 0, 0]).reshape(Na,1)\n",
        "# define positions for 500 IBM\n",
        "position_3 = np.array([0, 0, 0, 0, 0, 0, 0, 0, 0, 500, 0, 0, 0, 0, 0, 0, 0, 0, 0, 0]).reshape(Na,1)\n",
        "# stock codes\n",
        "sc=['MSFT','AAPL','IBM']\n",
        "# position choices\n",
        "pc=[position_1,position_2,position_3]\n",
        "# iterate through each position:\n",
        "for i in range(3):\n",
        "    position=pc[i]\n",
        "    # calculate portfolio value for each trading day\n",
        "    portf_value=np.dot(data_prices,position)\n",
        "    # calcualte 1-day loss \n",
        "    diff_1d=portf_value[:-1]-portf_value[1:]\n",
        "    loss_1d=np.sort(diff_1d.reshape(-1))\n",
        "    # compute 1-day VaR using historical data\n",
        "    VaR1 = loss_1d[int(math.ceil(Ns * alf)) - 1]\n",
        "    print('1-Day 95% VaR for {}: {}'.format(sc[i],VaR1))"
      ],
      "execution_count": null,
      "outputs": [
        {
          "output_type": "stream",
          "text": [
            "1-Day 95% VaR for MSFT: 531.8313600000001\n",
            "1-Day 95% VaR for AAPL: 606.9519200000032\n",
            "1-Day 95% VaR for IBM: 1838.3407500000103\n"
          ],
          "name": "stdout"
        }
      ]
    },
    {
      "cell_type": "markdown",
      "metadata": {
        "id": "QEi0mg3GLSPD"
      },
      "source": [
        "# Part 2"
      ]
    },
    {
      "cell_type": "code",
      "metadata": {
        "id": "ymssn_SZvIG6"
      },
      "source": [
        "# Question 2\n",
        "\n",
        "# Annual risk-free rate for years 2015-2016 is 2.5%\n",
        "r_rf = 0.025\n",
        "\n",
        "# Compute means and covariances for Question 2 (2019 and 2020)\n",
        "cur_returns = (data_prices[1:,:] / data_prices[:Ns-1,:]) - 1\n",
        "cur_returns = cur_returns\n",
        "\n",
        "# Expected returns for Question 2\n",
        "mu = np.mean(cur_returns, axis=0)\n",
        "# Covariances for Question 2\n",
        "Q = np.cov(cur_returns.astype(float).T)\n",
        "\n",
        "\n",
        "################################ Insert your code here ################################\n",
        "n=20\n",
        "#### minimum variance portfolio\n",
        "w1 = cp.Variable(n)\n",
        "prob = cp.Problem(cp.Minimize(cp.quad_form(w1, Q)),\n",
        "                 [sum(w1) == 1,\n",
        "                  w1 >= 0])\n",
        "prob.solve(solver=cp.CPLEX, verbose=False,cplex_params={\"qpmethod\": 6})\n",
        "# get solutions\n",
        "w_minVar=w1.value\n",
        "# calculate variance and return\n",
        "var_minVar = np.dot(w_minVar, np.dot(Q, w_minVar))\n",
        "ret_minVar = np.dot(mu.T, w_minVar.reshape(-1,1))\n",
        "# ### maximum return portfolio\n",
        "def strat_max_return(mu):\n",
        "    cpx = cplex.Cplex()\n",
        "    cpx.objective.set_sense(cpx.objective.sense.maximize)\n",
        "    n = 20\n",
        "    c = mu\n",
        "    lb = np.zeros((n))\n",
        "    ub = np.ones((n))\n",
        "    A = []\n",
        "    for k in range(n):\n",
        "        A.append([[0],[1]])\n",
        "    var_names = [\"w_%s\" % i for i in range(1,n+1)]\n",
        "    cpx.linear_constraints.add(rhs=[1], senses=\"E\")\n",
        "    cpx.variables.add(obj=c, lb=lb, ub=ub, columns=A, names=var_names)\n",
        "    cpx.parameters.threads.set(4)\n",
        "    cpx.set_results_stream(None)\n",
        "    cpx.set_warning_stream(None)\n",
        "    cpx.solve()\n",
        "    # Get w from solver\n",
        "    w_maxRet = np.array(cpx.solution.get_values())\n",
        "    return w_maxRet\n",
        "# get solutions\n",
        "w_maxRet=strat_max_return(mu)\n",
        "# calculate variance and return\n",
        "var_maxRet = np.dot(w_maxRet, np.dot(Q, w_maxRet))\n",
        "ret_maxRet = np.dot(mu.T, w_maxRet.reshape(-1,1))\n",
        "### equally-weighted portfolio\n",
        "w_eqWeight=1/n*np.ones((n))\n",
        "# calculate variance and return\n",
        "var_eqWeight= np.dot(w_eqWeight, np.dot(Q, w_eqWeight))\n",
        "ret_eqWeight = np.dot(mu.T, w_eqWeight.reshape(-1,1))\n",
        "### initial portfolio from assignment 1\n",
        "init_positions=np.array([0, 0, 0, 0, 0, 0, 0, 0, 0, 980, 0, 0, 0, 0, 0, 0, 0, 0, 0, 20000])\n",
        "w_a1=(data_prices[0,:]*init_positions)/np.dot(data_prices[0,:],init_positions)\n",
        "# calculate variance and return\n",
        "var_a1= np.dot(w_a1, np.dot(Q, w_a1))\n",
        "ret_a1 = np.dot(mu.T, w_a1.reshape(-1,1))\n",
        "### maximum sharpe ratio portfolio\n",
        "def strat_max_Sharpe(mu, Q):\n",
        "    cpx = cplex.Cplex()\n",
        "    cpx.objective.set_sense(cpx.objective.sense.minimize)\n",
        "    n = 21\n",
        "    c = np.zeros((n))\n",
        "    lb = np.zeros((n))\n",
        "    ub = [cplex.infinity]*n\n",
        "    # Risk-free return is converted to daily\n",
        "    coef = mu-r_rf/252\n",
        "    A = []\n",
        "    for k in range(n-1):\n",
        "        A.append([[0,1],[coef[k],1]])\n",
        "    A.append([[1],[-1]])\n",
        "    # First 20 variables are y\n",
        "    var_names = [\"y_%s\" % i for i in range(1,n)]\n",
        "    # Last variable is kappa\n",
        "    var_names.append('kappa')\n",
        "    cpx.linear_constraints.add(rhs=[1,0], senses=\"EE\")\n",
        "    cpx.variables.add(obj=c, lb=lb, ub=ub, columns=A, names=var_names)\n",
        "    # Adjust Q so that it has shape of (21,21)\n",
        "    Q=np.hstack((Q,np.zeros((20,1))))\n",
        "    Q=np.vstack((Q,np.zeros((1,21))))\n",
        "    qmat = [[list(range(n)), list(2*Q[k,:])] for k in range(n)]\n",
        "    cpx.objective.set_quadratic(qmat)\n",
        "    cpx.parameters.threads.set(4)\n",
        "    cpx.set_results_stream(None)\n",
        "    cpx.set_warning_stream(None)\n",
        "    cpx.solve()\n",
        "    # Get optimal solution from solver\n",
        "    solution = np.array(cpx.solution.get_values())\n",
        "    # Get the value for y\n",
        "    y = solution[:20]\n",
        "    # Get the value for kappa\n",
        "    kappa = solution[20]\n",
        "    # Calculate w using formula: w=y/k\n",
        "    w_max_sharpe = y/kappa\n",
        "    return w_max_sharpe\n",
        "w_maxSharpe=strat_max_Sharpe(mu,Q)\n",
        "# calculate variance and return\n",
        "var_maxSharpe= np.dot(w_maxSharpe, np.dot(Q, w_maxSharpe))\n",
        "ret_maxSharpe = np.dot(mu.T, w_maxSharpe.reshape(-1,1))\n",
        "### risk-free asset\n",
        "ret_riskFree=r_rf/252\n",
        "var_riskFree=0"
      ],
      "execution_count": null,
      "outputs": []
    },
    {
      "cell_type": "code",
      "metadata": {
        "id": "VKBZEv1zuAKr"
      },
      "source": [
        "### efficient frontier\n",
        "# target returns\n",
        "targetRet = np.linspace(ret_minVar,ret_maxRet,50)\n",
        "# compute efficient frontier\n",
        "w_front = []\n",
        "var_front = []\n",
        "ret_front = []\n",
        "# iterate through each epsilon value to solve the mean-variance optimization problem\n",
        "for epsilon in targetRet:\n",
        "    eps = cp.Parameter()\n",
        "    eps.value = epsilon[0]\n",
        "    w = cp.Variable(n)\n",
        "    prob = cp.Problem(cp.Minimize(cp.quad_form(w, Q)),\n",
        "                 [mu.T@w >= eps,\n",
        "                  sum(w) == 1,\n",
        "                  w >= 0])\n",
        "    prob.solve(solver=cp.CPLEX, verbose=False,cplex_params={\"qpmethod\": 6})\n",
        "    w_front.append(w.value)\n",
        "    var_front.append(np.dot(w.value, np.dot(Q, w.value)))\n",
        "    ret_front.append(np.dot(mu, w.value))"
      ],
      "execution_count": null,
      "outputs": []
    },
    {
      "cell_type": "code",
      "metadata": {
        "id": "QxZqLItIysRX"
      },
      "source": [
        "### efficient frontier of all assets, shorting allowed (except maximum Sharpe ratio portfolio)\n",
        "var_front_all = []\n",
        "ret_front_all= []\n",
        "# risk-free asset\n",
        "var_front_all.append(var_riskFree)\n",
        "ret_front_all.append(ret_riskFree)\n",
        "# maximum Sharpe ratio portfolio\n",
        "var_front_all.append(var_maxSharpe)\n",
        "ret_front_all.append(ret_maxSharpe)\n",
        "# shorting \n",
        "var_front_all.append(4*(var_maxSharpe-var_riskFree))\n",
        "ret_front_all.append(2*(ret_maxSharpe-ret_riskFree))"
      ],
      "execution_count": null,
      "outputs": []
    },
    {
      "cell_type": "code",
      "metadata": {
        "colab": {
          "base_uri": "https://localhost:8080/",
          "height": 477
        },
        "id": "rZUivpXwvaq0",
        "outputId": "a66767de-e0fd-47d8-c066-1b94c602a8b3"
      },
      "source": [
        "plt.figure(figsize=(10,6))\n",
        "# plot efficient frontier\n",
        "plt.plot(np.sqrt(var_front), ret_front, 'k-', label='efficient frontier')\n",
        "# plot efficient frontier with shorting allowed\n",
        "plt.plot(np.sqrt(var_front_all),ret_front_all,'b-.',label='efficient frontier with shorting allowed')\n",
        "# plot minimum variance portfolio\n",
        "plt.scatter(np.sqrt(var_minVar),ret_minVar,marker='.',color='r',s=200,label='Minimum Variance Portfolio')\n",
        "# plot maximum return portfolio\n",
        "plt.scatter(np.sqrt(var_maxRet),ret_maxRet,marker='^',color='b',s=200,label='Maximum Return Portfolio')\n",
        "# plot equally weighted portfolio\n",
        "plt.scatter(np.sqrt(var_eqWeight),ret_eqWeight,marker='s',color='y',s=200,label='Equally Weighted Portfolio')\n",
        "# plot initial portfolio of assignment 1\n",
        "plt.scatter(np.sqrt(var_a1),ret_a1,marker='*',color='c',s=200,label='Initial Portfolio of Assignment 1')\n",
        "# plot maximum Sharpe ratio portfolio\n",
        "plt.scatter(np.sqrt(var_maxSharpe),ret_maxSharpe,marker='+',color='m',s=200,label='Maximum Sharpe Ratio Portfolio')\n",
        "# plot risk-free asset\n",
        "plt.scatter(np.sqrt(var_riskFree),ret_riskFree,marker='o',color='k',s=200,label='Risk-free Asset')\n",
        "plt.xlabel('Standard Deviation')\n",
        "plt.ylabel('Expected Return')\n",
        "plt.title('Efficient Frontier')\n",
        "plt.legend()"
      ],
      "execution_count": null,
      "outputs": [
        {
          "output_type": "stream",
          "text": [
            "/usr/local/lib/python3.7/dist-packages/numpy/core/_asarray.py:136: VisibleDeprecationWarning: Creating an ndarray from ragged nested sequences (which is a list-or-tuple of lists-or-tuples-or ndarrays with different lengths or shapes) is deprecated. If you meant to do this, you must specify 'dtype=object' when creating the ndarray\n",
            "  return array(a, dtype, copy=False, order=order, subok=True)\n"
          ],
          "name": "stderr"
        },
        {
          "output_type": "execute_result",
          "data": {
            "text/plain": [
              "<matplotlib.legend.Legend at 0x7fbe66f66e50>"
            ]
          },
          "metadata": {
            "tags": []
          },
          "execution_count": 8
        },
        {
          "output_type": "display_data",
          "data": {
            "image/png": "[encoded data removed]",
            "text/plain": [
              "<Figure size 720x432 with 1 Axes>"
            ]
          },
          "metadata": {
            "tags": [],
            "needs_background": "light"
          }
        }
      ]
    },
    {
      "cell_type": "code",
      "metadata": {
        "id": "0iPyPgVW7iS-"
      },
      "source": [
        "# individual assets\n",
        "var_ind_asset=[]\n",
        "ret_ind_asset=[]\n",
        "# iterate throug each asset to calculate variance and return\n",
        "for i in range(Na):\n",
        "    w_ind_asset=np.zeros((Na))\n",
        "    w_ind_asset[i]=1\n",
        "    var_ind_asset.append(np.dot(w_ind_asset, np.dot(Q, w_ind_asset)))\n",
        "    ret_ind_asset.append((np.dot(mu.T, w_ind_asset.reshape(-1,1)))[0])"
      ],
      "execution_count": null,
      "outputs": []
    },
    {
      "cell_type": "code",
      "metadata": {
        "id": "j1KuL6kbDDJ8"
      },
      "source": [
        "# random assets\n",
        "var_rand_asset=[]\n",
        "ret_rand_asset=[]\n",
        "# use normal distribution to randomly generate 1000 portfolios\n",
        "for i in range(1000):\n",
        "    w_rand_asset=np.random.uniform(low=0,high=1,size=Na)\n",
        "    # normalize portfolio weights\n",
        "    w_rand_asset=w_rand_asset/sum(w_rand_asset)\n",
        "    # calculate variance and return\n",
        "    var_rand_asset.append(np.dot(w_rand_asset, np.dot(Q, w_rand_asset)))\n",
        "    ret_rand_asset.append((np.dot(mu.T, w_rand_asset.reshape(-1,1)))[0])\n"
      ],
      "execution_count": null,
      "outputs": []
    },
    {
      "cell_type": "code",
      "metadata": {
        "colab": {
          "base_uri": "https://localhost:8080/",
          "height": 422
        },
        "id": "e0RYm4MuEE_V",
        "outputId": "688c8fbc-c18a-4d30-f760-c7b7b8c0318d"
      },
      "source": [
        "# plot the result \n",
        "plt.figure(figsize=(10,6))\n",
        "# plot efficient frontier\n",
        "plt.plot(np.sqrt(var_front), ret_front, 'k-', label='efficient frontier')\n",
        "# plot random portfolio\n",
        "plt.scatter(np.sqrt(var_rand_asset),ret_rand_asset,edgecolors='r',facecolors='none',label='Random Portfolios')\n",
        "# plot individual asset\n",
        "plt.scatter(np.sqrt(var_ind_asset),ret_ind_asset,c='b',label='Individual Asset')\n",
        "plt.xlabel('Standard Deviation')\n",
        "plt.ylabel('Expected Return')\n",
        "plt.title('Efficient Frontier')\n",
        "plt.legend()"
      ],
      "execution_count": null,
      "outputs": [
        {
          "output_type": "execute_result",
          "data": {
            "text/plain": [
              "<matplotlib.legend.Legend at 0x7fbe62d6d610>"
            ]
          },
          "metadata": {
            "tags": []
          },
          "execution_count": 11
        },
        {
          "output_type": "display_data",
          "data": {
            "image/png": "[encoded data removed]",
            "text/plain": [
              "<Figure size 720x432 with 1 Axes>"
            ]
          },
          "metadata": {
            "tags": [],
            "needs_background": "light"
          }
        }
      ]
    },
    {
      "cell_type": "markdown",
      "metadata": {
        "id": "ZQUvUC58WnIr"
      },
      "source": [
        "# Part 3"
      ]
    },
    {
      "cell_type": "code",
      "metadata": {
        "colab": {
          "base_uri": "https://localhost:8080/"
        },
        "id": "C2BExRYrvKWq",
        "outputId": "dddcfa5d-f3ef-4386-ac4e-2c75b3b34dcc"
      },
      "source": [
        "# Question 3\n",
        "\n",
        "# Import FF models data from 2019-01-03 to 2020-12-31\n",
        "input_file_factors  = 'Daily_FF_factors.csv'\n",
        "if path.exists(input_file_factors):\n",
        "    print('\\nReading daily FF factors datafile - {}\\n'.format(input_file_factors))\n",
        "    ff_data = pd.read_csv(input_file_factors)\n",
        "    factors_name = list(ff_data.columns)[1:-1]\n",
        "    rf      = ff_data['RF'][1:].values\n",
        "    factors = ff_data.values[1:,1:4]\n",
        "else:\n",
        "    print(\"No such file '{}'\".format(input_file_factors), file=sys.stderr)\n",
        "\n",
        "# Indicides helpful to seperate data\n",
        "# dates[day_ind_start_2019] = '01/02/2019',\n",
        "# dates[day_ind_end_2019] = '12/31/2019',\n",
        "# dates[day_ind_start_2019] = '01/02/2020',\n",
        "# dates[day_ind_end_2019] = '12/31/2019'.\n",
        "day_ind_start_2019 = 0\n",
        "day_ind_end_2019   = 251\n",
        "day_ind_start_2020 = 252\n",
        "day_ind_end_2020   = 504\n",
        "\n",
        "data_prices_2019   = data_prices[day_ind_start_2019:day_ind_end_2019+1]\n",
        "data_prices_2020   = data_prices[day_ind_start_2020:day_ind_end_2020+1]\n",
        "\n",
        "\n",
        "################################ Insert your code here ################################\n",
        "### 2019\n",
        "print(\"=====2019=====\")\n",
        "beta_im_2019=[]\n",
        "beta_is_2019=[]\n",
        "beta_iv_2019=[]\n",
        "r_squared_2019=[]\n",
        "for i in range(Na):\n",
        "    # calculate excess return for stock\n",
        "    stock_price=data_prices_2019[:,i]\n",
        "    mu=(stock_price[1:]/stock_price[:-1])-1\n",
        "    excess_return=(mu-rf[:day_ind_end_2019]).reshape(-1,1)\n",
        "    # built a dataframe with excess return and each factor\n",
        "    price_data=np.hstack((excess_return,factors[:day_ind_end_2019,:]))\n",
        "    df=pd.DataFrame(price_data,columns=['Excess_return','mkt_excess','SMB','HML'])\n",
        "    # fit OLS model\n",
        "    model = smf.formula.ols(formula = \"Excess_return ~ mkt_excess + SMB + HML\", data = df).fit()\n",
        "    # get parameters\n",
        "    parameters=model.params\n",
        "    beta_im_2019.append(parameters[1])\n",
        "    beta_is_2019.append(parameters[2])\n",
        "    beta_iv_2019.append(parameters[3])\n",
        "    # get r-squared\n",
        "    r_squared_2019.append(model.rsquared)\n",
        "    # print result\n",
        "    print('For {}: beta_m = {}, beta_s={}, beta_v={}, r_squared={}'.format(fid.columns[1:][i],parameters[1],parameters[2],parameters[3],model.rsquared))"
      ],
      "execution_count": null,
      "outputs": [
        {
          "output_type": "stream",
          "text": [
            "\n",
            "Reading daily FF factors datafile - Daily_FF_factors.csv\n",
            "\n",
            "=====2019=====\n",
            "For MSFT: beta_m = 0.012480072844128106, beta_s=-0.004859607692645325, beta_v=-0.005242779428955639, r_squared=0.7337823258166071\n",
            "For F: beta_m = 0.010187493732795063, beta_s=0.005504756148659802, beta_v=0.005375969056211562, r_squared=0.3229421614645194\n",
            "For JPM: beta_m = 0.0113678761041789, beta_s=-0.003082637783191025, beta_v=0.009953493706811837, r_squared=0.7377600155304684\n",
            "For GOOG: beta_m = 0.01198719160727184, beta_s=-0.00027586950948224354, beta_v=-0.0044312218879372966, r_squared=0.46800834612612685\n",
            "For HPQ: beta_m = 0.012463107411965322, beta_s=0.0013409947371403204, beta_v=0.0023778843211344773, r_squared=0.2742500436106773\n",
            "For C: beta_m = 0.015403630925548735, beta_s=-0.001497212794982396, beta_v=0.010720845930835006, r_squared=0.7623875058118523\n",
            "For HOG: beta_m = 0.014425963619217271, beta_s=0.004634187721593455, beta_v=0.010641314998923653, r_squared=0.48930799355611954\n",
            "For VZ: beta_m = 0.0035569270017662136, beta_s=-0.0027499310575242264, beta_v=-0.00027983913443645035, r_squared=0.08145289071685535\n",
            "For AAPL: beta_m = 0.014749637669019787, beta_s=-0.0017246175691376811, beta_v=-0.002657433083351981, r_squared=0.5449057295161697\n",
            "For IBM: beta_m = 0.010819953988441752, beta_s=-0.002795681562952305, beta_v=0.0018954153910757756, r_squared=0.44574595871582523\n",
            "For T: beta_m = 0.005741922436045422, beta_s=-0.00015064207895055406, beta_v=0.0030711504634534695, r_squared=0.18631860250538923\n",
            "For CSCO: beta_m = 0.012440996754456304, beta_s=-0.0014210690423735678, beta_v=-0.0002879385954860826, r_squared=0.4382108705239911\n",
            "For BAC: beta_m = 0.013012641951378905, beta_s=0.0002948266526154948, beta_v=0.012634826062074073, r_squared=0.720136132618896\n",
            "For INTC: beta_m = 0.013244466889639187, beta_s=-0.004029599279098042, beta_v=0.0012501362569907434, r_squared=0.3749593527194012\n",
            "For AMD: beta_m = 0.02422240836881192, beta_s=0.003027272067284998, beta_v=-0.008221879595573581, r_squared=0.39576289025905864\n",
            "For SNE: beta_m = 0.010976251606885494, beta_s=0.002059134598321558, beta_v=-0.0011158874151658525, r_squared=0.2970778099503357\n",
            "For NVDA: beta_m = 0.021300868272071238, beta_s=0.004262480107387731, beta_v=-0.0009239223229268026, r_squared=0.5058233760734336\n",
            "For AMZN: beta_m = 0.012192464571264328, beta_s=0.0003648777772033555, beta_v=-0.0054565729870906495, r_squared=0.5745348695623973\n",
            "For MS: beta_m = 0.013966306712922578, beta_s=-0.001378984464778375, beta_v=0.010508712307468793, r_squared=0.6928714082147359\n",
            "For BK: beta_m = 0.009837754741434727, beta_s=0.00030779244891231356, beta_v=0.008838738056374855, r_squared=0.4147135687062077\n"
          ],
          "name": "stdout"
        }
      ]
    },
    {
      "cell_type": "code",
      "metadata": {
        "colab": {
          "base_uri": "https://localhost:8080/"
        },
        "id": "qU5AMbNTUoTr",
        "outputId": "6a5b15b3-7b7a-4ba3-c5ee-aa97dbef3dfe"
      },
      "source": [
        "### 2020\n",
        "print('=====2020=====')\n",
        "beta_im_2020=[]\n",
        "beta_is_2020=[]\n",
        "beta_iv_2020=[]\n",
        "r_squared_2020=[]\n",
        "for i in range(Na):\n",
        "    # calculate excess return for stock\n",
        "    stock_price=data_prices_2020[:,i]\n",
        "    mu=(stock_price[1:]/stock_price[:-1])-1\n",
        "    excess_return=(mu-rf[day_ind_start_2020:]).reshape(-1,1)\n",
        "    # built a dataframe with excess return and each factor\n",
        "    price_data=np.hstack((excess_return,factors[day_ind_start_2020:day_ind_end_2020,:]))\n",
        "    df=pd.DataFrame(price_data,columns=['Excess_return','mkt_excess','SMB','HML'])\n",
        "    # fit OLS model\n",
        "    model = smf.formula.ols(formula = \"Excess_return ~ mkt_excess + SMB + HML\", data = df).fit()\n",
        "    # get parameters\n",
        "    parameters=model.params\n",
        "    beta_im_2020.append(parameters[1])\n",
        "    beta_is_2020.append(parameters[2])\n",
        "    beta_iv_2020.append(parameters[3])\n",
        "    # get r-squared\n",
        "    r_squared_2020.append(model.rsquared)\n",
        "    # print result\n",
        "    print('For {}: beta_m = {}, beta_s={}, beta_v={}, r_squared={}'.format(fid.columns[1:][i],parameters[1],parameters[2],parameters[3],model.rsquared))"
      ],
      "execution_count": null,
      "outputs": [
        {
          "output_type": "stream",
          "text": [
            "=====2020=====\n",
            "For MSFT: beta_m = 0.012518377256875445, beta_s=-0.002614750223269624, beta_v=-0.005144902487227577, r_squared=0.8808265273129627\n",
            "For F: beta_m = 0.008948022830040113, beta_s=0.0012728222249985682, beta_v=0.010015907793933378, r_squared=0.6468421235838635\n",
            "For JPM: beta_m = 0.010522818886128937, beta_s=-0.002928619773109583, beta_v=0.011201885661469232, r_squared=0.8870157494122171\n",
            "For GOOG: beta_m = 0.010155256611577942, beta_s=-0.001220508549055984, beta_v=-0.002577563056388577, r_squared=0.7520354323594565\n",
            "For HPQ: beta_m = 0.010588870039335304, beta_s=0.007336589476292794, beta_v=0.003553261821494109, r_squared=0.6067849065499784\n",
            "For C: beta_m = 0.012894652174142377, beta_s=-0.0002892194957570515, beta_v=0.013293297570326683, r_squared=0.8704396113597668\n",
            "For HOG: beta_m = 0.013524329370033212, beta_s=0.003125319903143665, beta_v=0.009000892830972976, r_squared=0.5627757389215909\n",
            "For VZ: beta_m = 0.0051123005299089745, beta_s=-0.0029299801470087164, beta_v=0.0011839276964426796, r_squared=0.5508168572049206\n",
            "For AAPL: beta_m = 0.012391250629365675, beta_s=-0.004108983785057543, beta_v=-0.0043396166164601764, r_squared=0.7631500383299246\n",
            "For IBM: beta_m = 0.00924837335373387, beta_s=-0.000535396142620182, beta_v=0.0032323089429996347, r_squared=0.7230275656732141\n",
            "For T: beta_m = 0.007338894147833269, beta_s=-0.003951293671462093, beta_v=0.005035075978127493, r_squared=0.7367437851990368\n",
            "For CSCO: beta_m = 0.00993760434410176, beta_s=-0.003320841772357136, beta_v=0.00024015081833407385, r_squared=0.6587121768213194\n",
            "For BAC: beta_m = 0.011507805024095182, beta_s=-0.0035492514100355565, beta_v=0.012039255258497267, r_squared=0.8985467001922405\n",
            "For INTC: beta_m = 0.012094207714029933, beta_s=-0.003062260998400717, beta_v=-0.0016154074464360328, r_squared=0.5761098900185001\n",
            "For AMD: beta_m = 0.013407648794804923, beta_s=-0.0004284316068630861, beta_v=-0.007497814808590248, r_squared=0.5324288645831609\n",
            "For SNE: beta_m = 0.007718672588341162, beta_s=-0.0005105496762599874, beta_v=-0.0015041053435951796, r_squared=0.5605899847043344\n",
            "For NVDA: beta_m = 0.015457647395793982, beta_s=0.0023957398923750315, beta_v=-0.00910861251148717, r_squared=0.7881974738515525\n",
            "For AMZN: beta_m = 0.008540368100396562, beta_s=-0.0018772562006771844, beta_v=-0.006813795048675828, r_squared=0.5909114807526449\n",
            "For MS: beta_m = 0.012765526590513616, beta_s=-0.0028029390498110866, beta_v=0.008049123678377708, r_squared=0.8420877249334742\n",
            "For BK: beta_m = 0.009329772324730728, beta_s=-0.0027453904685160045, beta_v=0.008290474503167354, r_squared=0.7547250957878002\n"
          ],
          "name": "stdout"
        }
      ]
    },
    {
      "cell_type": "code",
      "metadata": {
        "colab": {
          "base_uri": "https://localhost:8080/"
        },
        "id": "nI1EzuT3VNlE",
        "outputId": "e015a306-0e92-40d5-b3b5-050d41dea29c"
      },
      "source": [
        "### over 2 years\n",
        "print('=====2019-2020=====')\n",
        "intercept_2yr=[]\n",
        "beta_im_2yr=[]\n",
        "beta_is_2yr=[]\n",
        "beta_iv_2yr=[]\n",
        "r_squared_2yr=[]\n",
        "for i in range(Na):\n",
        "    # calculate excess return for stock\n",
        "    stock_price=data_prices[:,i]\n",
        "    mu=(stock_price[1:]/stock_price[:-1])-1\n",
        "    excess_return=(mu-rf).reshape(-1,1)\n",
        "    # built a dataframe with excess return and each factor\n",
        "    price_data=np.hstack((excess_return,factors))\n",
        "    df=pd.DataFrame(price_data,columns=['Excess_return','mkt_excess','SMB','HML'])\n",
        "    # fit OLS model\n",
        "    model = smf.formula.ols(formula = \"Excess_return ~ mkt_excess + SMB + HML\", data = df).fit()\n",
        "    # get parameters\n",
        "    parameters=model.params\n",
        "    beta_im_2yr.append(parameters[1])\n",
        "    beta_is_2yr.append(parameters[2])\n",
        "    beta_iv_2yr.append(parameters[3])\n",
        "    # get r-squared\n",
        "    r_squared_2yr.append(model.rsquared)\n",
        "    # get intercept\n",
        "    intercept_2yr.append(parameters[0])\n",
        "    # print result\n",
        "    print('For {}: beta_m = {}, beta_s={}, beta_v={}, r_squared={}'.format(fid.columns[1:][i],parameters[1],parameters[2],parameters[3],model.rsquared))"
      ],
      "execution_count": null,
      "outputs": [
        {
          "output_type": "stream",
          "text": [
            "=====2019-2020=====\n",
            "For MSFT: beta_m = 0.012502929110072019, beta_s=-0.0028325870454060068, beta_v=-0.005240183656724919, r_squared=0.8366451575784701\n",
            "For F: beta_m = 0.009341021573092849, beta_s=0.002751677395532611, beta_v=0.009033957543041156, r_squared=0.5712923982996787\n",
            "For JPM: beta_m = 0.010691658681044616, beta_s=-0.0025388074517624683, beta_v=0.010818373067838501, r_squared=0.8546270570639594\n",
            "For GOOG: beta_m = 0.010496427864222904, beta_s=-0.000499118896352708, beta_v=-0.003147412465150554, r_squared=0.650872240647149\n",
            "For HPQ: beta_m = 0.010820833401553615, beta_s=0.006536696289901716, beta_v=0.0032491848407308326, r_squared=0.5107104759709691\n",
            "For C: beta_m = 0.01331665993683517, beta_s=1.4865345711881161e-05, beta_v=0.012656662800412024, r_squared=0.8467973897027469\n",
            "For HOG: beta_m = 0.013624732230758553, beta_s=0.003922000818598992, beta_v=0.008912746554944359, r_squared=0.5452905212953478\n",
            "For VZ: beta_m = 0.0049591060724031195, beta_s=-0.002654094580679865, beta_v=0.000951221264125712, r_squared=0.38016508877944455\n",
            "For AAPL: beta_m = 0.012705461375921774, beta_s=-0.003072775555131253, beta_v=-0.004534342039708766, r_squared=0.6932806280839288\n",
            "For IBM: beta_m = 0.009487545314358501, beta_s=-0.0005532901136667558, beta_v=0.002849981236195061, r_squared=0.6481049594176453\n",
            "For T: beta_m = 0.007241010874759426, beta_s=-0.00290759113382813, beta_v=0.004664911034481492, r_squared=0.6064025377475643\n",
            "For CSCO: beta_m = 0.010334459382248952, beta_s=-0.0023391654941780516, beta_v=-0.0002310582254670577, r_squared=0.5856309838136765\n",
            "For BAC: beta_m = 0.011759480345985783, beta_s=-0.002236151378745597, beta_v=0.011728077305738084, r_squared=0.8589231922876674\n",
            "For INTC: beta_m = 0.012159474532002137, beta_s=-0.0029747314349552936, beta_v=-0.001439976850187366, r_squared=0.5272484782239311\n",
            "For AMD: beta_m = 0.014976810106418551, beta_s=0.001523206180604037, beta_v=-0.008650192913790232, r_squared=0.44276259252922334\n",
            "For SNE: beta_m = 0.008198203117749207, beta_s=0.0006940600988942229, beta_v=-0.0019449223747421845, r_squared=0.4347833154933539\n",
            "For NVDA: beta_m = 0.01602424946255291, beta_s=0.0035433466644163667, beta_v=-0.008725041283163466, r_squared=0.6681455468689124\n",
            "For AMZN: beta_m = 0.009045951774013563, beta_s=-0.0007141619146624253, beta_v=-0.0071734297707563835, r_squared=0.5552349359679732\n",
            "For MS: beta_m = 0.012891658901970748, beta_s=-0.002042621823096419, beta_v=0.008031465301421448, r_squared=0.7994006899193258\n",
            "For BK: beta_m = 0.00944136992366991, beta_s=-0.0016951957542857298, beta_v=0.00806131260293255, r_squared=0.6770463754494198\n"
          ],
          "name": "stdout"
        }
      ]
    },
    {
      "cell_type": "code",
      "metadata": {
        "id": "XZSn9vMUG73n"
      },
      "source": [
        "# number of scenarios\n",
        "N=1000\n",
        "# initialize daily loss for each asset and the portfolio\n",
        "loss_msft=np.zeros((N,Ns-1))\n",
        "loss_aapl=np.zeros((N,Ns-1))\n",
        "loss_ibm=np.zeros((N,Ns-1))\n",
        "loss_all=np.zeros((N,Ns-1))\n",
        "# iterate through each scenario\n",
        "for s in range(N):\n",
        "    # initialize portfolio value for each asset\n",
        "    portf_value_msft=np.zeros(Ns)\n",
        "    portf_value_aapl=np.zeros(Ns)\n",
        "    portf_value_ibm=np.zeros(Ns)\n",
        "    # calcualte initial portfolio value of each asset\n",
        "    portf_value_msft[0]=100*data_prices[0,0]\n",
        "    portf_value_aapl[0]=200*data_prices[0,8]\n",
        "    portf_value_ibm[0]=500*data_prices[0,9]\n",
        "    # create random number for each factor\n",
        "    f_m_excess=np.sqrt(2.6999)*np.random.randn(Ns-1,1)\n",
        "    f_s=np.sqrt(0.5005)*np.random.randn(Ns-1,1)\n",
        "    f_v=np.sqrt(1.4790)*np.random.randn(Ns-1,1)\n",
        "    # define correlation matrix\n",
        "    cor=np.array([[1,0.1351,0.4893],[0.1351,1,0.2170],[0.4893,0.2170,1]])\n",
        "    # calculate correlated factors\n",
        "    f=np.hstack((f_m_excess,f_s,f_v))\n",
        "    sqrt_cor = np.linalg.cholesky(cor)\n",
        "    f=np.dot(f,sqrt_cor)\n",
        "    # iterate through each trading day during 2019-2020\n",
        "    for i in range(Ns-1):\n",
        "        # calculate return using FF model with beta and alpha obtained from last part\n",
        "        r_msft=beta_im_2yr[0]*f[i,0]+beta_is_2yr[0]*f[i,1]+beta_iv_2yr[0]*f[i,2]+rf[i]+np.random.randn()/(100*252)+intercept_2yr[0]\n",
        "        r_aapl=beta_im_2yr[8]*f[i,0]+beta_is_2yr[8]*f[i,1]+beta_iv_2yr[8]*f[i,2]+rf[i]+np.random.randn()/(100*252)+intercept_2yr[8]\n",
        "        r_ibm=beta_im_2yr[9]*f[i,0]+beta_is_2yr[9]*f[i,1]+beta_iv_2yr[9]*f[i,2]+rf[i]+np.random.randn()/(100*252)+intercept_2yr[9]\n",
        "        # calcualte daily portfolio value\n",
        "        portf_value_msft[i+1]=portf_value_msft[i]*(1+r_msft)\n",
        "        portf_value_aapl[i+1]=portf_value_aapl[i]*(1+r_aapl)\n",
        "        portf_value_ibm[i+1]=portf_value_ibm[i]*(1+r_ibm)\n",
        "    # calcualte daily portfolio loss\n",
        "    l_msft=(portf_value_msft[:-1]-portf_value_msft[1:])\n",
        "    l_aapl=(portf_value_aapl[:-1]-portf_value_aapl[1:])\n",
        "    l_ibm=(portf_value_ibm[:-1]-portf_value_ibm[1:])\n",
        "    l_all=l_msft+l_aapl+l_ibm\n",
        "    # store result in loss matrix\n",
        "    loss_msft[s]=l_msft\n",
        "    loss_aapl[s]=l_aapl\n",
        "    loss_ibm[s]=l_ibm\n",
        "    loss_all[s]=l_all"
      ],
      "execution_count": null,
      "outputs": []
    },
    {
      "cell_type": "code",
      "metadata": {
        "colab": {
          "base_uri": "https://localhost:8080/"
        },
        "id": "1EoAd6UHq9BF",
        "outputId": "4accc33d-9f9f-466e-c6e0-a304a7d8e626"
      },
      "source": [
        "# calculate VaR at 95%\n",
        "VaR_msft=np.sort(loss_msft.reshape(-1))[int(math.ceil(N*(Ns-1) * alf)) - 1]\n",
        "VaR_aapl=np.sort(loss_aapl.reshape(-1))[int(math.ceil(N*(Ns-1) * alf)) - 1]\n",
        "VaR_ibm=np.sort(loss_ibm.reshape(-1))[int(math.ceil(N*(Ns-1) * alf)) - 1]\n",
        "VaR_all=np.sort(loss_all.reshape(-1))[int(math.ceil(N*(Ns-1) * alf)) - 1]\n",
        "# print results\n",
        "print('1-Day 95% VaR of 100 MSFT: {}'.format(VaR_msft))\n",
        "print('1-Day 95% VaR of 200 AAPL: {}'.format(VaR_aapl))\n",
        "print('1-Day 95% VaR of 500 IBM: {}'.format(VaR_ibm))\n",
        "print('1-Day 95% VaR of all above: {}'.format(VaR_all))"
      ],
      "execution_count": null,
      "outputs": [
        {
          "output_type": "stream",
          "text": [
            "1-Day 95% VaR of 100 MSFT: 668.0694644891046\n",
            "1-Day 95% VaR of 200 AAPL: 685.042481788756\n",
            "1-Day 95% VaR of 500 IBM: 2855.9298693305172\n",
            "1-Day 95% VaR of all above: 4131.330922682166\n"
          ],
          "name": "stdout"
        }
      ]
    }
  ]
}